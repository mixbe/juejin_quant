{
 "cells": [
  {
   "cell_type": "markdown",
   "id": "5635b73c-012a-4968-89f2-71011a2c37c7",
   "metadata": {},
   "source": [
    "[原文链接](https://preettheman.medium.com/how-to-predict-doge-coin-price-using-machine-learning-and-python-4bc7d723a6d3?source=search_post---------2)\n",
    "\n",
    "\n",
    "\n",
    "\n",
    "* 需要安装的包\n",
    "\n",
    "```\n",
    "pip install yfinance\n",
    "pip install yahoofinancials\n",
    "pip install sklearn\n",
    "pip install matplotlib\n",
    "```"
   ]
  },
  {
   "cell_type": "code",
   "execution_count": 1,
   "id": "0d88671d-ae88-4ea9-984c-d3b9c10c2302",
   "metadata": {},
   "outputs": [],
   "source": [
    "import numpy as np\n",
    "import pandas as pd\n",
    "import matplotlib.pyplot as plt\n",
    "from sklearn.metrics import mean_absolute_error as mae\n",
    "from sklearn.preprocessing import StandardScaler\n",
    "import yfinance as yf\n",
    "from yahoofinancials import YahooFinancials"
   ]
  },
  {
   "cell_type": "code",
   "execution_count": 2,
   "id": "773aeaf6-4ccb-46da-9519-a66ede0685e0",
   "metadata": {},
   "outputs": [],
   "source": [
    "df = yf.download('DOGE-USD',start='2021-01-01',end='2021-04-01',progress=False)"
   ]
  },
  {
   "cell_type": "code",
   "execution_count": 3,
   "id": "5577f2c1-4d2b-4768-917e-a900f0fa2562",
   "metadata": {},
   "outputs": [
    {
     "data": {
      "text/html": [
       "<div>\n",
       "<style scoped>\n",
       "    .dataframe tbody tr th:only-of-type {\n",
       "        vertical-align: middle;\n",
       "    }\n",
       "\n",
       "    .dataframe tbody tr th {\n",
       "        vertical-align: top;\n",
       "    }\n",
       "\n",
       "    .dataframe thead th {\n",
       "        text-align: right;\n",
       "    }\n",
       "</style>\n",
       "<table border=\"1\" class=\"dataframe\">\n",
       "  <thead>\n",
       "    <tr style=\"text-align: right;\">\n",
       "      <th></th>\n",
       "      <th>Open</th>\n",
       "      <th>High</th>\n",
       "      <th>Low</th>\n",
       "      <th>Close</th>\n",
       "      <th>Adj Close</th>\n",
       "      <th>Volume</th>\n",
       "    </tr>\n",
       "    <tr>\n",
       "      <th>Date</th>\n",
       "      <th></th>\n",
       "      <th></th>\n",
       "      <th></th>\n",
       "      <th></th>\n",
       "      <th></th>\n",
       "      <th></th>\n",
       "    </tr>\n",
       "  </thead>\n",
       "  <tbody>\n",
       "    <tr>\n",
       "      <th>2020-12-31</th>\n",
       "      <td>0.004636</td>\n",
       "      <td>0.004743</td>\n",
       "      <td>0.004553</td>\n",
       "      <td>0.004682</td>\n",
       "      <td>0.004682</td>\n",
       "      <td>85498337</td>\n",
       "    </tr>\n",
       "    <tr>\n",
       "      <th>2021-01-01</th>\n",
       "      <td>0.004681</td>\n",
       "      <td>0.005685</td>\n",
       "      <td>0.004615</td>\n",
       "      <td>0.005685</td>\n",
       "      <td>0.005685</td>\n",
       "      <td>228961515</td>\n",
       "    </tr>\n",
       "    <tr>\n",
       "      <th>2021-01-02</th>\n",
       "      <td>0.005686</td>\n",
       "      <td>0.013698</td>\n",
       "      <td>0.005584</td>\n",
       "      <td>0.010615</td>\n",
       "      <td>0.010615</td>\n",
       "      <td>3421562680</td>\n",
       "    </tr>\n",
       "    <tr>\n",
       "      <th>2021-01-03</th>\n",
       "      <td>0.010602</td>\n",
       "      <td>0.013867</td>\n",
       "      <td>0.009409</td>\n",
       "      <td>0.009771</td>\n",
       "      <td>0.009771</td>\n",
       "      <td>2707003608</td>\n",
       "    </tr>\n",
       "    <tr>\n",
       "      <th>2021-01-04</th>\n",
       "      <td>0.009785</td>\n",
       "      <td>0.011421</td>\n",
       "      <td>0.007878</td>\n",
       "      <td>0.009767</td>\n",
       "      <td>0.009767</td>\n",
       "      <td>1372398979</td>\n",
       "    </tr>\n",
       "  </tbody>\n",
       "</table>\n",
       "</div>"
      ],
      "text/plain": [
       "                Open      High       Low     Close  Adj Close      Volume\n",
       "Date                                                                     \n",
       "2020-12-31  0.004636  0.004743  0.004553  0.004682   0.004682    85498337\n",
       "2021-01-01  0.004681  0.005685  0.004615  0.005685   0.005685   228961515\n",
       "2021-01-02  0.005686  0.013698  0.005584  0.010615   0.010615  3421562680\n",
       "2021-01-03  0.010602  0.013867  0.009409  0.009771   0.009771  2707003608\n",
       "2021-01-04  0.009785  0.011421  0.007878  0.009767   0.009767  1372398979"
      ]
     },
     "execution_count": 3,
     "metadata": {},
     "output_type": "execute_result"
    }
   ],
   "source": [
    "df.head()"
   ]
  },
  {
   "cell_type": "code",
   "execution_count": 32,
   "id": "060779fb-01e7-4d21-b5b7-19e8cc997f0e",
   "metadata": {},
   "outputs": [
    {
     "name": "stdout",
     "output_type": "stream",
     "text": [
      "[[0.004682]\n",
      " [0.005685]\n",
      " [0.010615]\n",
      " [0.009771]\n",
      " [0.009767]\n",
      " [0.00992 ]\n",
      " [0.010465]\n",
      " [0.009742]\n",
      " [0.009846]\n",
      " [0.010194]\n",
      " [0.00986 ]\n",
      " [0.008835]\n",
      " [0.008063]\n",
      " [0.008616]\n",
      " [0.009397]\n",
      " [0.009369]\n",
      " [0.009265]\n",
      " [0.009067]\n",
      " [0.009171]\n",
      " [0.009098]\n",
      " [0.00906 ]\n",
      " [0.008166]\n",
      " [0.008524]\n",
      " [0.008579]\n",
      " [0.008727]\n",
      " [0.008383]\n",
      " [0.008255]\n",
      " [0.007482]\n",
      " [0.012555]\n",
      " [0.047162]\n",
      " [0.028176]\n",
      " [0.037196]\n",
      " [0.034875]\n",
      " [0.03152 ]\n",
      " [0.03712 ]\n",
      " [0.053289]\n",
      " [0.046935]\n",
      " [0.057595]\n",
      " [0.078782]\n",
      " [0.078825]\n",
      " [0.07007 ]\n",
      " [0.072896]\n",
      " [0.069676]\n",
      " [0.070069]\n",
      " [0.06645 ]\n",
      " [0.062537]\n",
      " [0.056591]\n",
      " [0.05352 ]\n",
      " [0.049376]\n",
      " [0.059541]\n",
      " [0.055139]\n",
      " [0.054384]\n",
      " [0.05598 ]\n",
      " [0.053725]\n",
      " [0.047392]\n",
      " [0.056555]\n",
      " [0.050167]\n",
      " [0.05048 ]\n",
      " [0.050083]\n",
      " [0.048052]\n",
      " [0.050599]\n",
      " [0.050262]\n",
      " [0.050592]\n",
      " [0.050048]\n",
      " [0.049609]\n",
      " [0.050984]\n",
      " [0.052122]\n",
      " [0.061949]\n",
      " [0.057998]\n",
      " [0.056004]\n",
      " [0.055918]\n",
      " [0.055349]\n",
      " [0.062432]\n",
      " [0.058592]\n",
      " [0.057088]\n",
      " [0.058607]\n",
      " [0.057653]\n",
      " [0.057383]\n",
      " [0.058328]\n",
      " [0.058961]\n",
      " [0.057234]\n",
      " [0.054962]\n",
      " [0.053556]\n",
      " [0.051702]\n",
      " [0.051448]\n",
      " [0.053952]\n",
      " [0.054377]\n",
      " [0.053698]\n",
      " [0.054052]\n",
      " [0.0539  ]\n",
      " [0.053657]]\n"
     ]
    }
   ],
   "source": [
    "series = df['Close'].values.reshape(-1, 1)\n",
    "print(series)"
   ]
  },
  {
   "cell_type": "code",
   "execution_count": 33,
   "id": "86da6ba0-1033-45fe-8b60-77a5c5706ba3",
   "metadata": {},
   "outputs": [],
   "source": [
    "#实例化\n",
    "scaler = StandardScaler()\n",
    "# fit，本质是生成均值和方差\n",
    "scaler.fit(series[:len(series) // 2])\n",
    "# \n",
    "series = scaler.transform(series).flatten()"
   ]
  },
  {
   "cell_type": "code",
   "execution_count": 34,
   "id": "0d3d1d7c-229d-4512-b2c9-8d43f33ecb54",
   "metadata": {},
   "outputs": [
    {
     "name": "stdout",
     "output_type": "stream",
     "text": [
      "[-0.85085148 -0.80960673 -0.60687838 -0.64158482 -0.6417493  -0.63545771\n",
      " -0.61304658 -0.64277732 -0.6385007  -0.62419047 -0.63792502 -0.68007441\n",
      " -0.71182012 -0.68907997 -0.65696419 -0.6581156  -0.66239222 -0.67053425\n",
      " -0.66625764 -0.66925949 -0.6708221  -0.7075846  -0.69286317 -0.69060148\n",
      " -0.68451551 -0.69866126 -0.7039248  -0.73571162 -0.52710288  0.89598448\n",
      "  0.11525409  0.48616883  0.39072623  0.25276401  0.48304362  1.14793512\n",
      "  0.8866499   1.32500375  2.19624229  2.19801039  1.83799283  1.95420205\n",
      "  1.82179095  1.83795178  1.68913352  1.52822557  1.28371792  1.15743422\n",
      "  0.98702718  1.40502588  1.22400973  1.19296306  1.25859277  1.16586406\n",
      "  0.90544237  1.2822375   1.01955427  1.03242522  1.01610001  0.93258257\n",
      "  1.03731869  1.02346075  1.03703085  1.0146608   0.99660854  1.05315032\n",
      "  1.09994651  1.50404621  1.34157574  1.25957961  1.25604324  1.23264515\n",
      "  1.52390778  1.36600173  1.30415518  1.36661863  1.32738875  1.31628606\n",
      "  1.35514569  1.38117557  1.31015896  1.21673126  1.15891449  1.08267552\n",
      "  1.07223063  1.17519864  1.19267521  1.16475375  1.17931069  1.17306027\n",
      "  1.16306775]\n"
     ]
    }
   ],
   "source": [
    "print(series)"
   ]
  },
  {
   "cell_type": "code",
   "execution_count": 35,
   "id": "2d4c60a9-14a0-44d1-8273-c7ff54e62a3e",
   "metadata": {},
   "outputs": [],
   "source": [
    "T = 10\n",
    "D = 1\n",
    "X = []\n",
    "Y = []"
   ]
  },
  {
   "cell_type": "code",
   "execution_count": 36,
   "id": "013db990-7f87-4890-b0a4-8fe2515fe646",
   "metadata": {},
   "outputs": [],
   "source": [
    "for t in range(len(series)-T):\n",
    "    x = series[t:t+T]\n",
    "    X.append(x)\n",
    "    y = series[t+T]\n",
    "    Y.append(y)"
   ]
  },
  {
   "cell_type": "code",
   "execution_count": 37,
   "id": "a74ffdec-4f21-4c76-9b04-524bc106c864",
   "metadata": {},
   "outputs": [
    {
     "name": "stdout",
     "output_type": "stream",
     "text": [
      "X.shape (81, 10) Y.shape (81,)\n"
     ]
    }
   ],
   "source": [
    "X = np.array(X).reshape(-1, T)\n",
    "Y = np.array(Y)\n",
    "N = len(X)\n",
    "print(\"X.shape\", X.shape, \"Y.shape\", Y.shape)"
   ]
  },
  {
   "cell_type": "code",
   "execution_count": 38,
   "id": "7fd23b81-4778-447b-ac80-dcff416331d4",
   "metadata": {},
   "outputs": [],
   "source": [
    "class BaselineModel:\n",
    "    def predict(self, X):\n",
    "        return X[:,-1] # return the last value for each input sequence"
   ]
  },
  {
   "cell_type": "code",
   "execution_count": 39,
   "id": "bb6eb448-caeb-4d35-b4a7-24c7b71d700b",
   "metadata": {},
   "outputs": [],
   "source": [
    "Xtrain, Ytrain = X[:-N//2], Y[:-N//2]\n",
    "Xtest, Ytest = X[-N//2:], Y[-N//2:]"
   ]
  },
  {
   "cell_type": "code",
   "execution_count": 40,
   "id": "3f465dda-a098-4d80-92cf-2ce787867d19",
   "metadata": {},
   "outputs": [],
   "source": [
    "model = BaselineModel()\n",
    "Ptrain = model.predict(Xtrain)\n",
    "Ptest = model.predict(Xtest)"
   ]
  },
  {
   "cell_type": "code",
   "execution_count": 41,
   "id": "db42144d-f1cc-45c8-9174-99c009d676dc",
   "metadata": {},
   "outputs": [],
   "source": [
    "Ytrain2 = scaler.inverse_transform(Ytrain.reshape(-1, 1)).flatten()\n",
    "Ytest2 = scaler.inverse_transform(Ytest.reshape(-1, 1)).flatten()\n",
    "Ptrain2 = scaler.inverse_transform(Ptrain.reshape(-1, 1)).flatten()\n",
    "Ptest2 = scaler.inverse_transform(Ptest.reshape(-1, 1)).flatten()"
   ]
  },
  {
   "cell_type": "code",
   "execution_count": 42,
   "id": "4272f9b6-40dc-4b28-8555-2421043b320d",
   "metadata": {},
   "outputs": [],
   "source": [
    "# right forecast\n",
    "forecast = []\n",
    "input_ = Xtest[0]\n",
    "while len(forecast) < len(Ytest):\n",
    "    f = model.predict(input_.reshape(1, T))[0]\n",
    "    forecast.append(f)\n",
    "    # make a new input with the latest forecast\n",
    "    input_ = np.roll(input_, -1)\n",
    "    input_[-1] = f"
   ]
  },
  {
   "cell_type": "code",
   "execution_count": 45,
   "id": "f420be05-3267-46de-b021-52d87bd092d3",
   "metadata": {},
   "outputs": [
    {
     "data": {
      "image/png": "[encoded data removed]",
      "text/plain": [
       "<Figure size 432x288 with 1 Axes>"
      ]
     },
     "metadata": {
      "needs_background": "light"
     },
     "output_type": "display_data"
    }
   ],
   "source": [
    "plt.plot(Ytest, label='target')\n",
    "plt.plot(forecast, label='prediction')\n",
    "plt.title(\"Right forecast\")\n",
    "plt.legend()\n",
    "plt.show()"
   ]
  },
  {
   "cell_type": "code",
   "execution_count": 46,
   "id": "99e1559a-8408-4f90-9b14-38b2c9a8bdeb",
   "metadata": {},
   "outputs": [
    {
     "data": {
      "text/plain": [
       "[1.4050258792597732,\n",
       " 1.4050258792597732,\n",
       " 1.4050258792597732,\n",
       " 1.4050258792597732,\n",
       " 1.4050258792597732,\n",
       " 1.4050258792597732,\n",
       " 1.4050258792597732,\n",
       " 1.4050258792597732,\n",
       " 1.4050258792597732,\n",
       " 1.4050258792597732,\n",
       " 1.4050258792597732,\n",
       " 1.4050258792597732,\n",
       " 1.4050258792597732,\n",
       " 1.4050258792597732,\n",
       " 1.4050258792597732,\n",
       " 1.4050258792597732,\n",
       " 1.4050258792597732,\n",
       " 1.4050258792597732,\n",
       " 1.4050258792597732,\n",
       " 1.4050258792597732,\n",
       " 1.4050258792597732,\n",
       " 1.4050258792597732,\n",
       " 1.4050258792597732,\n",
       " 1.4050258792597732,\n",
       " 1.4050258792597732,\n",
       " 1.4050258792597732,\n",
       " 1.4050258792597732,\n",
       " 1.4050258792597732,\n",
       " 1.4050258792597732,\n",
       " 1.4050258792597732,\n",
       " 1.4050258792597732,\n",
       " 1.4050258792597732,\n",
       " 1.4050258792597732,\n",
       " 1.4050258792597732,\n",
       " 1.4050258792597732,\n",
       " 1.4050258792597732,\n",
       " 1.4050258792597732,\n",
       " 1.4050258792597732,\n",
       " 1.4050258792597732,\n",
       " 1.4050258792597732,\n",
       " 1.4050258792597732]"
      ]
     },
     "execution_count": 46,
     "metadata": {},
     "output_type": "execute_result"
    }
   ],
   "source": [
    "forecast"
   ]
  },
  {
   "cell_type": "code",
   "execution_count": null,
   "id": "f30ae4c8-93e1-47b2-ac00-35c9044d14dc",
   "metadata": {},
   "outputs": [],
   "source": []
  }
 ],
 "metadata": {
  "kernelspec": {
   "display_name": "Python 3",
   "language": "python",
   "name": "python3"
  },
  "language_info": {
   "codemirror_mode": {
    "name": "ipython",
    "version": 3
   },
   "file_extension": ".py",
   "mimetype": "text/x-python",
   "name": "python",
   "nbconvert_exporter": "python",
   "pygments_lexer": "ipython3",
   "version": "3.8.8"
  }
 },
 "nbformat": 4,
 "nbformat_minor": 5
}