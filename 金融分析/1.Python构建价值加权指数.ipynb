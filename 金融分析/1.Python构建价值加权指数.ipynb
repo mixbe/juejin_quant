{
 "cells": [
  {
   "cell_type": "markdown",
   "source": [
    "* [官网](https://www.akshare.xyz/zh_CN/latest/introduction.html)\n",
    "* [github](https://github.com/jindaxiang/akshare)"
   ],
   "metadata": {
    "collapsed": false,
    "pycharm": {
     "name": "#%% md\n"
    }
   }
  },
  {
   "cell_type": "code",
   "execution_count": 1,
   "metadata": {
    "collapsed": true,
    "pycharm": {
     "name": "#%%\n"
    }
   },
   "outputs": [],
   "source": [
    "# 包导入\n",
    "import akshare as ak"
   ]
  },
  {
   "cell_type": "code",
   "execution_count": 8,
   "outputs": [
    {
     "name": "stdout",
     "output_type": "stream",
     "text": [
      "     指数代码  指数名称      昨收盘      今开盘             成交额      最高价      最低价      最新价  \\\n",
      "0  801010  农林牧渔  3539.16  3531.02   7992619905.00  3531.02  3497.69  3501.70   \n",
      "1  801020    采掘  2998.53  3000.14  14181851531.00  3054.81  2974.38  3024.70   \n",
      "2  801030    化工  4286.61  4294.85  42668530941.00  4295.90  4250.74  4267.26   \n",
      "3  801040    钢铁  2754.20  2754.90   5029831119.00  2773.43  2726.93  2754.46   \n",
      "4  801050  有色金属  4562.29  4578.89  25681762858.00  4581.10  4507.94  4526.72   \n",
      "\n",
      "          成交量  \n",
      "0   637922559  \n",
      "1  2101653167  \n",
      "2  3117354662  \n",
      "3   995822986  \n",
      "4  1716929272  \n",
      "['801010', '801020', '801030', '801040', '801050', '801080', '801110', '801120', '801130', '801140', '801150', '801160', '801170', '801180', '801200', '801210', '801230', '801710', '801720', '801730', '801740', '801750', '801760', '801770', '801780', '801790', '801880', '801890']\n"
     ]
    }
   ],
   "source": [
    "# 获取行业板块\n",
    "sw_index_spot_df = ak.sw_index_spot()\n",
    "print(sw_index_spot_df.head())\n",
    "sw_index_symbols = sw_index_spot_df['指数代码'].to_list()\n",
    "print(sw_index_symbols)\n"
   ],
   "metadata": {
    "collapsed": false,
    "pycharm": {
     "name": "#%%\n"
    }
   }
  },
  {
   "cell_type": "code",
   "execution_count": 14,
   "outputs": [
    {
     "name": "stdout",
     "output_type": "stream",
     "text": [
      "300498\n"
     ]
    }
   ],
   "source": [
    "# 获取板块成分股\n",
    "sw_index_df = ak.sw_index_cons(index_code=\"801010\")\n",
    "sw = sw_index_df.sort_values(\"weight\", ascending=False)\n",
    "print(sw.iat[0, 0])"
   ],
   "metadata": {
    "collapsed": false,
    "pycharm": {
     "name": "#%%\n"
    }
   }
  },
  {
   "cell_type": "code",
   "execution_count": 18,
   "outputs": [
    {
     "name": "stdout",
     "output_type": "stream",
     "text": [
      "['300498', '601225', '600309', '600010', '002460', '002415', '002050', '600887', '002612', '603899', '603259', '600905', '002352', '601155', '601933', '601888', '600811', '000786', '601390', '300014', '600893', '002230', '300413', '600522', '000001', '600030', '600660', '601766']\n"
     ]
    }
   ],
   "source": [
    "all_symbols = []\n",
    "for symbol in list(sw_index_spot_df['指数代码']):\n",
    "    sw_index_df = ak.sw_index_cons(index_code=symbol)\n",
    "    sw_index_df.sort_values(\"weight\", ascending=False, inplace=True)\n",
    "    #print(sw_index_df.iat[0,0], sw_index_df.iat[0,1])\n",
    "    all_symbols.append(sw_index_df.iat[0, 0])\n",
    "\n",
    "print(all_symbols)"
   ],
   "metadata": {
    "collapsed": false,
    "pycharm": {
     "name": "#%%\n"
    }
   }
  },
  {
   "cell_type": "code",
   "execution_count": 23,
   "outputs": [
    {
     "name": "stderr",
     "output_type": "stream",
     "text": [
      "/Users/cuijl/.conda/envs/juejin_quant/lib/python3.8/site-packages/akshare/stock/stock_zh_a_tick_tx_163.py:28: UserWarning: 正在下载数据，请稍等\n",
      "  warnings.warn(\"正在下载数据，请稍等\")\n"
     ]
    },
    {
     "name": "stdout",
     "output_type": "stream",
     "text": [
      "          成交时间     成交价格  价格变动  成交量      成交金额   性质\n",
      "0     09:25:01  2040.01  0.01  419  85476419   买盘\n",
      "1     09:30:01  2040.99  0.98   29   5897887   买盘\n",
      "2     09:30:04  2043.00  2.01   37   7554721   买盘\n",
      "3     09:30:07  2040.29 -2.71   50  10134700   卖盘\n",
      "4     09:30:10  2041.77  1.48   64  13069518   买盘\n",
      "...        ...      ...   ...  ...       ...  ...\n",
      "4120  14:56:50  2069.99  0.00    3    620978   买盘\n",
      "4121  14:56:53  2069.01 -0.98   33   6830869   卖盘\n",
      "4122  14:56:56  2069.99  0.98    3    620998  中性盘\n",
      "4123  14:56:59  2069.01 -0.98    3    620880   卖盘\n",
      "4124  15:00:03  2068.05 -0.96  469  97084608   卖盘\n",
      "\n",
      "[4125 rows x 6 columns]\n"
     ]
    }
   ],
   "source": [
    "import akshare as ak\n",
    "\n",
    "stock_zh_a_tick_tx_df = ak.stock_zh_a_tick_tx_js(code=\"sh600519\")\n",
    "print(stock_zh_a_tick_tx_df)"
   ],
   "metadata": {
    "collapsed": false,
    "pycharm": {
     "name": "#%%\n"
    }
   }
  },
  {
   "cell_type": "code",
   "execution_count": 24,
   "outputs": [],
   "source": [
    "def get_stock_symbol(symbol: str):\n",
    "    if symbol.startswith(\"6\") or symbol.startswith(\"5\"):\n",
    "        return \"sh\" + symbol\n",
    "    else:\n",
    "        return \"sz\" + symbol"
   ],
   "metadata": {
    "collapsed": false,
    "pycharm": {
     "name": "#%%\n"
    }
   }
  },
  {
   "cell_type": "code",
   "execution_count": 25,
   "outputs": [],
   "source": [
    "all_price_dfs = []\n",
    "no_shares=[]\n",
    "\n",
    "for symbol in all_symbols:\n",
    "    stock_zh_kcb_daily_df = ak.stock_zh_kcb_daily(symbol=get_stock_symbol(symbol), adjust=\"qfq\")\n",
    "    all_price_dfs.append(stock_zh_kcb_daily_df['2021-01-01':'2021-06-24']['close'])\n",
    "    no_shares.append(stock_zh_kcb_daily_df['outstanding_share'][-1])\n",
    "\n",
    "\n"
   ],
   "metadata": {
    "collapsed": false,
    "pycharm": {
     "name": "#%%\n"
    }
   }
  }
 ],
 "metadata": {
  "kernelspec": {
   "display_name": "Python 3",
   "language": "python",
   "name": "python3"
  },
  "language_info": {
   "codemirror_mode": {
    "name": "ipython",
    "version": 2
   },
   "file_extension": ".py",
   "mimetype": "text/x-python",
   "name": "python",
   "nbconvert_exporter": "python",
   "pygments_lexer": "ipython2",
   "version": "2.7.6"
  }
 },
 "nbformat": 4,
 "nbformat_minor": 0
}